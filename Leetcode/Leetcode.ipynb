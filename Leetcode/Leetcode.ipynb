{
 "cells": [
  {
   "cell_type": "markdown",
   "id": "c38bde9d",
   "metadata": {},
   "source": [
    "# Hard Challenges"
   ]
  },
  {
   "cell_type": "markdown",
   "id": "c17ee8a1",
   "metadata": {},
   "source": [
    "### Convert a non-negative integer num to its English words representation.\n",
    "\n",
    "- Example 1:<br>\n",
    "Input: num = 123 <br>\n",
    "Output: \"One Hundred Twenty Three\"\n",
    "\n",
    "- Example 2:<br>\n",
    "Input: num = 12345 <br>\n",
    "Output: \"Twelve Thousand Three Hundred Forty Five\"\n",
    "\n",
    "- Example 3:<br>\n",
    "Input: num = 1234567 <br>\n",
    "Output: \"One Million Two Hundred Thirty Four Thousand Five Hundred Sixty Seven\"\n",
    "\n",
    "[Challenge](https://leetcode.com/problems/integer-to-english-words/)"
   ]
  },
  {
   "cell_type": "code",
   "execution_count": 6,
   "id": "f24d35ed",
   "metadata": {},
   "outputs": [],
   "source": [
    "import re"
   ]
  },
  {
   "cell_type": "code",
   "execution_count": 7,
   "id": "c8799582",
   "metadata": {},
   "outputs": [],
   "source": [
    "num = 1_000_010"
   ]
  },
  {
   "cell_type": "code",
   "execution_count": 8,
   "id": "fc907174",
   "metadata": {},
   "outputs": [],
   "source": [
    "number_units={\n",
    "    0: \"Zero\",\n",
    "    1: \"One\",\n",
    "    2: \"Two\",\n",
    "    3: \"Three\",\n",
    "    4: \"Four\",\n",
    "    5: \"Five\",\n",
    "    6: \"Six\",\n",
    "    7: \"Seven\",\n",
    "    8: \"Eight\",\n",
    "    9: \"Nine\",\n",
    "    10: \"Ten\",\n",
    "    11: \"Eleven\",\n",
    "    12: \"Twelve\", \n",
    "    13: \"Thirteen\", \n",
    "    14: \"Fourteen\", \n",
    "    15: \"Fifteen\", \n",
    "    16: \"Sixteen\",\n",
    "    17: \"Seventeen\", \n",
    "    18: \"Eighteen\", \n",
    "    19: \"Nineteen\",\n",
    "    20: \"Twenty\",\n",
    "    30: \"Thirty\",\n",
    "    40: \"Forty\",\n",
    "    50: \"Fifty\",\n",
    "    60: \"Sixty\",\n",
    "    70: \"Seventy\",\n",
    "    80: \"Eighty\",\n",
    "    90: \"Ninety\", \n",
    "    100: \"Hundred\",\n",
    "    1_000: \"Thousand\",\n",
    "    1_000_000: \"Million\",\n",
    "    1_000_000_000: \"Billion\",\n",
    "    1_000_000_000_000: \"Trillion\",\n",
    "    1_000_000_000_000_000: \"Quadrillion\",\n",
    "    1_000_000_000_000_000_000:\"Quintillion\",\n",
    "    1_000_000_000_000_000_000_000:\"Sextillion\",\n",
    "    1_000_000_000_000_000_000_000_000:\"Septillion\",\n",
    "    1_000_000_000_000_000_000_000_000_000: \"Octillion\", \n",
    "    1_000_000_000_000_000_000_000_000_000_000: \"Nonillion\",\n",
    "    }"
   ]
  },
  {
   "cell_type": "code",
   "execution_count": 9,
   "id": "70947afa",
   "metadata": {},
   "outputs": [
    {
     "data": {
      "text/plain": [
       "'One Million Ten'"
      ]
     },
     "execution_count": 9,
     "metadata": {},
     "output_type": "execute_result"
    }
   ],
   "source": [
    "number = str(num)\n",
    "c = \"\"\n",
    "i = 0\n",
    "for m in range(3):\n",
    "    \n",
    "    if len(number) <= 3:\n",
    "        c = number\n",
    "        break\n",
    "        \n",
    "    sliced = number[m+1:]\n",
    "    if len(sliced) % 3 == 0:\n",
    "        c += number[:m+1] + \",\"\n",
    "        for nb in sliced:\n",
    "            if i == 3:\n",
    "                c += \",\"\n",
    "                c += nb\n",
    "                i = 0\n",
    "            else:\n",
    "                c += nb\n",
    "            i += 1\n",
    "            \n",
    "res = []\n",
    "for elem in c.split(\",\"):\n",
    "    if int(elem) in number_units.keys() and len(elem) != 3:\n",
    "        res.append(number_units[int(elem)])\n",
    "        continue\n",
    "    i = 1\n",
    "    sub_res = []\n",
    "    for nb in elem:\n",
    "        if nb != \"0\":\n",
    "            ma = int(nb)*(10**(len(elem)-i))\n",
    "            mu =str(ma)\n",
    "            if len(mu) == 3:\n",
    "                sub_res.append(number_units[int(mu[0])])\n",
    "                sub_res.append(number_units[int(\"1\" + mu[1:])])\n",
    "            elif len(mu) == 2 and mu[0] == \"1\":\n",
    "                index = elem.index(nb)\n",
    "                if elem[0] == elem[1]:\n",
    "                    index += 1\n",
    "                sub_res.append(number_units[int(elem[index:])])\n",
    "                break\n",
    "            else:\n",
    "                sub_res.append(number_units[ma])\n",
    "        i += 1\n",
    "    res.append(\" \".join(sub_res))\n",
    "\n",
    "final_res = []\n",
    "i = 0\n",
    "for elem in res[::-1]:\n",
    "    if i != 0 and elem != \"\":\n",
    "        final_res.append(number_units[10**i])\n",
    "    final_res.append(elem)\n",
    "    i += 3\n",
    "re.sub(\" +\", \" \", \" \".join(final_res[::-1]).strip())"
   ]
  }
 ],
 "metadata": {
  "kernelspec": {
   "display_name": "Python 3",
   "language": "python",
   "name": "python3"
  },
  "language_info": {
   "codemirror_mode": {
    "name": "ipython",
    "version": 3
   },
   "file_extension": ".py",
   "mimetype": "text/x-python",
   "name": "python",
   "nbconvert_exporter": "python",
   "pygments_lexer": "ipython3",
   "version": "3.8.8"
  }
 },
 "nbformat": 4,
 "nbformat_minor": 5
}
